{
 "cells": [
  {
   "cell_type": "code",
   "execution_count": 1,
   "id": "outer-usage",
   "metadata": {},
   "outputs": [],
   "source": [
    "def init_boards():\n",
    "    game_board = [' ',' ',' ',' ',' ',' ',' ',' ',' ']\n",
    "    help_board = ['1','2','3','4','5','6','7','8','9']\n",
    "    return game_board,help_board"
   ]
  },
  {
   "cell_type": "code",
   "execution_count": 2,
   "id": "involved-sculpture",
   "metadata": {},
   "outputs": [],
   "source": [
    "def display_board(board):\n",
    "    print()\n",
    "    print(f' {board[0]} | {board[1]} | {board[2]}')\n",
    "    print('-----------')\n",
    "    print(f' {board[3]} | {board[4]} | {board[5]}')\n",
    "    print('-----------')\n",
    "    print(f' {board[6]} | {board[7]} | {board[8]}')\n",
    "    print()"
   ]
  },
  {
   "cell_type": "code",
   "execution_count": 3,
   "id": "signed-matrix",
   "metadata": {},
   "outputs": [],
   "source": [
    "def det_player(help_board):\n",
    "    from IPython.display import clear_output\n",
    "    acceptable_responses = ['X','O']\n",
    "    p1 = ['Player 1','so wrong']\n",
    "    p2 = ['Player 2','so very wrong']\n",
    "    \n",
    "    # see if p1 wants to be X or O, only accept valid response\n",
    "    while p1[1] not in acceptable_responses:\n",
    "        \n",
    "        p1[1] = input('Player 1: Would you like be X or O? ').upper()\n",
    "        \n",
    "        clear_output()\n",
    "        \n",
    "        if p1[1] not in acceptable_responses:\n",
    "            print('Please enter X or O!')\n",
    "    \n",
    "    # assign p2 to whatever p1 is not\n",
    "    acceptable_responses.remove(p1[1])\n",
    "    p2[1] = acceptable_responses[0]\n",
    "    \n",
    "    # Explain how to move\n",
    "    \n",
    "    print(f'Player 1 is {p1[1]}')\n",
    "    print(f'Player 2 is {p2[1]}')\n",
    "    display_board(help_board)\n",
    "    print('When prompted, enter the number shown above corresponding to the location where you want to move.\\n')\n",
    "    \n",
    "    # ask if ready to play\n",
    "\n",
    "    input(\"Ready? Hit Enter to play! \")\n",
    "    clear_output()\n",
    "    return p1,p2"
   ]
  },
  {
   "cell_type": "code",
   "execution_count": 4,
   "id": "organic-stocks",
   "metadata": {},
   "outputs": [],
   "source": [
    "def player_move(game_board, help_board, player):\n",
    "    from IPython.display import clear_output\n",
    "    choice = 'so wrong'\n",
    "            \n",
    "    while str(choice) not in help_board:\n",
    "                \n",
    "        # display whose turn it is\n",
    "        print(f\"It's {player[0]}'s turn.\")\n",
    "        \n",
    "        display_board(game_board)\n",
    "        \n",
    "        choice = input('Where do you want to move? \\n')\n",
    "        \n",
    "        clear_output()\n",
    "        \n",
    "        # check for invalid input\n",
    "        if choice not in help_board:\n",
    "            print(\"Sorry! I don't understand where you want to move.\\n\")\n",
    "            display_board(help_board)\n",
    "            print(\"Please choose one of the numbers above corresponding to the place you'd like to move.\\n\")\n",
    "            continue\n",
    "                \n",
    "        # check if someone already moved there\n",
    "        choice = int(choice)\n",
    "        if game_board[choice - 1] == ' ':\n",
    "            game_board[choice - 1] = player[1]\n",
    "        else:\n",
    "            clear_output()\n",
    "            print('Someone already moved there! Pick a different place to move.\\n')"
   ]
  },
  {
   "cell_type": "code",
   "execution_count": 5,
   "id": "gorgeous-primary",
   "metadata": {},
   "outputs": [],
   "source": [
    "def check_win(board):\n",
    "    win_combos = [[0,1,2],[3,4,5],[6,7,8],[0,3,6],[1,4,7],[2,5,8],[0,4,8],[2,4,6]]\n",
    "    \n",
    "    for a,b,c in win_combos:\n",
    "        if board[a] == board[b] == board[c] == 'X':\n",
    "            return 'X'\n",
    "        elif board[a] == board[b] == board[c] == 'O':\n",
    "            return 'O'\n",
    "        elif ' ' not in board:\n",
    "            return 'Tie'\n",
    "    return False"
   ]
  },
  {
   "cell_type": "code",
   "execution_count": 6,
   "id": "breathing-birthday",
   "metadata": {},
   "outputs": [],
   "source": [
    "def play():\n",
    "\n",
    "    game_board,help_board = init_boards()\n",
    "    player1,player2 = det_player(help_board)\n",
    "    \n",
    "    # play game!\n",
    "    while check_win(game_board) == False:\n",
    "        for player in [player1,player2]:\n",
    "            \n",
    "            # this if statement stops the for loop from continuing if player1 wins\n",
    "            # so that player2 doesn't get a turn\n",
    "            if check_win(game_board) != False:\n",
    "                break\n",
    "                \n",
    "            player_move(game_board,help_board,player)\n",
    "    \n",
    "    # retrieve which player won, announce winner\n",
    "    results = check_win(game_board)\n",
    "    \n",
    "    for player in [player1,player2]:\n",
    "        if player[1] == results:\n",
    "            display_board(game_board)\n",
    "            print(f\"Congratulations {player[0]}! You won the game.\")\n",
    "            break\n",
    "    else:\n",
    "        # in the case of a tie...\n",
    "        print('Tie game!')"
   ]
  },
  {
   "cell_type": "code",
   "execution_count": 7,
   "id": "level-government",
   "metadata": {},
   "outputs": [],
   "source": [
    "def tictactoe():\n",
    "    from IPython.display import clear_output\n",
    "    replay = True\n",
    "    \n",
    "    while replay:\n",
    "        yn = ['y','n']\n",
    "        yn_resp = 'just wrong'\n",
    "        \n",
    "        clear_output()\n",
    "        play()\n",
    "        \n",
    "        # check for valid response\n",
    "        while yn_resp not in yn:        \n",
    "            \n",
    "            yn_resp = input('Would you like to play again? (y/n)')\n",
    "            \n",
    "            if yn_resp not in yn:\n",
    "                print('Please type \"y\" or \"n\"')\n",
    "        \n",
    "        if yn_resp == 'n':\n",
    "            replay = False\n",
    "    \n",
    "    clear_output()\n",
    "    print('Thanks for playing!')"
   ]
  },
  {
   "cell_type": "code",
   "execution_count": 8,
   "id": "cutting-chrome",
   "metadata": {},
   "outputs": [
    {
     "name": "stdout",
     "output_type": "stream",
     "text": [
      "Thanks for playing!\n"
     ]
    }
   ],
   "source": [
    "tictactoe()"
   ]
  },
  {
   "cell_type": "markdown",
   "id": "talented-lobby",
   "metadata": {},
   "source": [
    "# "
   ]
  }
 ],
 "metadata": {
  "kernelspec": {
   "display_name": "Python 3",
   "language": "python",
   "name": "python3"
  },
  "language_info": {
   "codemirror_mode": {
    "name": "ipython",
    "version": 3
   },
   "file_extension": ".py",
   "mimetype": "text/x-python",
   "name": "python",
   "nbconvert_exporter": "python",
   "pygments_lexer": "ipython3",
   "version": "3.7.6"
  }
 },
 "nbformat": 4,
 "nbformat_minor": 5
}
